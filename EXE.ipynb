{
  "nbformat": 4,
  "nbformat_minor": 0,
  "metadata": {
    "colab": {
      "provenance": [],
      "authorship_tag": "ABX9TyOB2F+/eqQN3/P2UCqPaOtI",
      "include_colab_link": true
    },
    "kernelspec": {
      "name": "python3",
      "display_name": "Python 3"
    },
    "language_info": {
      "name": "python"
    }
  },
  "cells": [
    {
      "cell_type": "markdown",
      "metadata": {
        "id": "view-in-github",
        "colab_type": "text"
      },
      "source": [
        "<a href=\"https://colab.research.google.com/github/minho1110/BP_10_Ch6/blob/main/EXE.ipynb\" target=\"_parent\"><img src=\"https://colab.research.google.com/assets/colab-badge.svg\" alt=\"Open In Colab\"/></a>"
      ]
    },
    {
      "cell_type": "code",
      "execution_count": 1,
      "metadata": {
        "colab": {
          "base_uri": "https://localhost:8080/"
        },
        "id": "izFw8quw7Aen",
        "outputId": "8bfe8a9f-a47b-40e9-9bc4-f62bfdbd25c7"
      },
      "outputs": [
        {
          "output_type": "stream",
          "name": "stdout",
          "text": [
            "2468101214161820222426283032343638404244464850525456586062646668707274767880828486889092949698100"
          ]
        }
      ],
      "source": [
        "for i in range(2, 101):\n",
        "  if i%2==0 :\n",
        "    print(i,end = \"\")"
      ]
    },
    {
      "cell_type": "code",
      "source": [
        "year = 0\n",
        "balance = 1000\n",
        "while balance <= 2000:\n",
        "    year = year + 1\n",
        "    interest = balance * 0.07\n",
        "    balance = balance + interest\n",
        "print(year, \"년이 걸립니다.\")"
      ],
      "metadata": {
        "colab": {
          "base_uri": "https://localhost:8080/"
        },
        "id": "iL1-R2277oiJ",
        "outputId": "a7f42230-205a-4331-8487-ceed3b2d5c73"
      },
      "execution_count": 2,
      "outputs": [
        {
          "output_type": "stream",
          "name": "stdout",
          "text": [
            "11 년이 걸립니다.\n"
          ]
        }
      ]
    },
    {
      "cell_type": "markdown",
      "source": [
        "while 조건은 n이 0을 초과하는 경우이다.\n",
        "digit 변수에 n을 %10으로 나눈 값이 입력된다.\n",
        "%는 나머지를 연산하는 값이므로 n값을 10으로 나머지를 구한다면 1000, 200, 30까지는 10의 배수이므로 계산이 진행되지만 4를 정수 10으로는 나눌 수 없어서 4는 나머지 값이 된다.\n",
        "sum(0) = sum(0) + digit(4)\n",
        "(n(1234) = n(1234) // 10) -> n(123)의 값으로 반복문이 진행된다.\n",
        "위 조건이 0보다 큰 경우까지 계산하는 것이므로 정리하면 다음의 연산 과정을 가진다.\n",
        "sum += 4\n",
        "sum +=3\n",
        "sum +=2\n",
        "sum +=1\n",
        "즉, 4+3+2+1 = 10이 된다."
      ],
      "metadata": {
        "id": "1yykvFj_8AsC"
      }
    },
    {
      "cell_type": "code",
      "source": [
        "ans = 0\n",
        "while ans != 3*9:\n",
        "  ans = int(input(\"3*9는\"))\n",
        "print(\"맞았습니다.\")"
      ],
      "metadata": {
        "colab": {
          "base_uri": "https://localhost:8080/"
        },
        "id": "P0c5_4hA8GLJ",
        "outputId": "31f84e16-0cbc-4a84-9fcf-348089ff815f"
      },
      "execution_count": 3,
      "outputs": [
        {
          "output_type": "stream",
          "name": "stdout",
          "text": [
            "3*9는27\n",
            "맞았습니다.\n"
          ]
        }
      ]
    },
    {
      "cell_type": "code",
      "source": [
        "sum =0\n",
        "while True:\n",
        "  x = int(input(\"정수를 입력하시오: \"))\n",
        "  if x == 0:\n",
        "    break;\n",
        "    sum = sum + x\n",
        "\n",
        "print(\"합은 \", sum, \"입니다.\")"
      ],
      "metadata": {
        "id": "pGqCk90R83_o"
      },
      "execution_count": null,
      "outputs": []
    },
    {
      "cell_type": "code",
      "source": [
        "from random import randint\n",
        " \n",
        "for i in range(3):\n",
        "    d1 = randint(1, 6)\n",
        "    d2 = randint(1, 6)\n",
        "    print(\"첫번째 주사위=\",d1 ,\"두번째 주사위=\",d2)"
      ],
      "metadata": {
        "colab": {
          "base_uri": "https://localhost:8080/"
        },
        "id": "JhOYRFzh-ZMQ",
        "outputId": "35f02ff8-9ad8-472d-d9a2-c835d5f77416"
      },
      "execution_count": 8,
      "outputs": [
        {
          "output_type": "stream",
          "name": "stdout",
          "text": [
            "첫번째 주사위= 6 두번째 주사위= 2\n",
            "첫번째 주사위= 2 두번째 주사위= 6\n",
            "첫번째 주사위= 2 두번째 주사위= 3\n"
          ]
        }
      ]
    },
    {
      "cell_type": "code",
      "source": [
        "import turtle\n",
        " \n",
        "t = turtle.Turtle()\n",
        "t.shape(\"turtle\")\n",
        "t.color(\"blue\")\n",
        "t.lt(90)\n",
        " \n",
        "for i in range (6):\n",
        "    t.fd(100); t.fd(-30); t.lt(60); t.fd(30); t.fd(-30)\n",
        "    t.rt(120); t.fd(30); t.fd(-30); t.lt(60); t.fd(-70); t.lt(60)"
      ],
      "metadata": {
        "id": "Wiswo9yn-yg3"
      },
      "execution_count": null,
      "outputs": []
    },
    {
      "cell_type": "code",
      "source": [
        "import turtle\n",
        " \n",
        "t = turtle.Turtle()\n",
        "t.color(\"red\")\n",
        " \n",
        "for i in range(10):\n",
        "    for j in range(1,6):\n",
        "        t.lt(144)\n",
        "       t.fd(200)\n",
        "    t.lt(10)"
      ],
      "metadata": {
        "id": "uh-Ly9S8-7J_"
      },
      "execution_count": null,
      "outputs": []
    },
    {
      "cell_type": "code",
      "source": [
        "import random as rd\n",
        "import turtle\n",
        " \n",
        "t = turtle.Turtle()\n",
        "t.shape(\"turtle\")\n",
        " \n",
        "for i in range(10):\n",
        "    x=rd.randint(-150,150)\n",
        "    y=rd.randint(-150,150)\n",
        "    r=rd.randint(1,100)\n",
        " \n",
        "    t.up()\n",
        "    t.goto(x,y)\n",
        "    t.down()\n",
        "    t.circle(r)"
      ],
      "metadata": {
        "id": "yTRG8CPW-7M2"
      },
      "execution_count": null,
      "outputs": []
    },
    {
      "cell_type": "code",
      "source": [
        "import turtle\n",
        " \n",
        "t = turtle.Turtle()\n",
        "t.shape(\"turtle\")\n",
        " \n",
        "for i in range(5):\n",
        "    t.fd(200)\n",
        "    t.rt(90)\n",
        "    t.fd(20)\n",
        "    t.rt(90)\n",
        "    t.fd(200)\n",
        "    t.lt(90)\n",
        "    t.fd(20)\n",
        "    t.lt(90)"
      ],
      "metadata": {
        "id": "I-FjnTI5-7O1"
      },
      "execution_count": null,
      "outputs": []
    },
    {
      "cell_type": "code",
      "source": [
        "import turtle\n",
        "import math\n",
        " \n",
        "t = turtle.Turtle()\n",
        "t.shape(\"turtle\")\n",
        "t.color(\"red\")\n",
        " \n",
        "for i in range(360):\n",
        "    sine=math.sin(math.pi*i/180)\n",
        "    print(sine)\n",
        "    t.goto(i,sine*100)"
      ],
      "metadata": {
        "id": "0kIk8tHw_X7_"
      },
      "execution_count": null,
      "outputs": []
    }
  ]
}